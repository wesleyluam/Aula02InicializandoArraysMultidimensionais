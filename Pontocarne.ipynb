{
  "nbformat": 4,
  "nbformat_minor": 0,
  "metadata": {
    "colab": {
      "provenance": [],
      "authorship_tag": "ABX9TyMpkPf1RChDs5nxeLxqpBbk",
      "include_colab_link": true
    },
    "kernelspec": {
      "name": "python3",
      "display_name": "Python 3"
    },
    "language_info": {
      "name": "python"
    }
  },
  "cells": [
    {
      "cell_type": "markdown",
      "metadata": {
        "id": "view-in-github",
        "colab_type": "text"
      },
      "source": [
        "<a href=\"https://colab.research.google.com/github/wesleyluam/Aula02InicializandoArraysMultidimensionais/blob/main/Pontocarne.ipynb\" target=\"_parent\"><img src=\"https://colab.research.google.com/assets/colab-badge.svg\" alt=\"Open In Colab\"/></a>"
      ]
    },
    {
      "cell_type": "code",
      "execution_count": 10,
      "metadata": {
        "colab": {
          "base_uri": "https://localhost:8080/"
        },
        "id": "VRrulpnE-Zcy",
        "outputId": "569b82e3-b744-4ee8-96ad-768bc5398bea"
      },
      "outputs": [
        {
          "output_type": "stream",
          "name": "stdout",
          "text": [
            " ------- Pontos da carne ------ \n",
            "Mal passado 52 - 55\n",
            "Ao ponto p/ mal 55 - 60\n",
            "Ao ponto 60 - 65\n",
            "Ao ponto p/ bem 65 - 69\n",
            "Bem passado 69 - 100\n",
            " \n",
            "Digite ponto da carne! 54\n",
            "ponto inexistente\n"
          ]
        }
      ],
      "source": [
        "print(' ------- Pontos da carne ------ ')\n",
        "print('Mal passado 52 - 55')\n",
        "print('Ao ponto p/ mal 55 - 60')\n",
        "print('Ao ponto 60 - 65')\n",
        "print('Ao ponto p/ bem 65 - 69')\n",
        "print('Bem passado 69 - 100')\n",
        "print(' ')\n",
        "\n",
        "varcarne = int(input('Digite ponto da carne! '))\n",
        "if varcarne in (52,55):\n",
        "  print('o ponto desejado é Mal passado')\n",
        "elif varcarne in (56,60):\n",
        "  print('o ponto desejado é Ao ponto p/ Mal')    \n",
        "elif varcarne in (61,65):\n",
        "  print('o ponto desejado é Ao ponto')\n",
        "elif varcarne in (66,69):\n",
        "  print('o ponto desejado é Ao ponto p/ bem')\n",
        "elif varcarne in (70,100):\n",
        "  print('o ponto desejado é Bem passado')\n",
        "else:\n",
        "  print('ponto inexistente')\n",
        "\n",
        "\n"
      ]
    }
  ]
}